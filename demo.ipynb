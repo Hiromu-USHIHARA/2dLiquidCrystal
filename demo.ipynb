{
  "cells": [
    {
      "cell_type": "markdown",
      "id": "4120763b",
      "metadata": {
        "id": "4120763b"
      },
      "source": [
        "# 2D Liquid Crystal Simulation in Julia"
      ]
    },
    {
      "cell_type": "code",
      "execution_count": null,
      "id": "eb91c1d2",
      "metadata": {
        "id": "eb91c1d2"
      },
      "outputs": [],
      "source": [
        "using Pkg\n",
        "Pkg.add(\"IJulia\")\n",
        "Pkg.add(\"Plots\")"
      ]
    },
    {
      "cell_type": "code",
      "source": [
        "using Plots"
      ],
      "metadata": {
        "id": "qHJ25z9zSHlP"
      },
      "id": "qHJ25z9zSHlP",
      "execution_count": null,
      "outputs": []
    },
    {
      "cell_type": "code",
      "source": [
        "mutable struct LiquidCrystalSystem\n",
        "    x::Vector{Float64}\n",
        "    y::Vector{Float64}\n",
        "    theta::Vector{Float64}\n",
        "end"
      ],
      "metadata": {
        "id": "XFa635LJSK9c"
      },
      "id": "XFa635LJSK9c",
      "execution_count": null,
      "outputs": []
    },
    {
      "cell_type": "code",
      "source": [
        "function total_energy(system::LiquidCrystalSystem, H::Float64, molecule_length::Float64)\n",
        "    \"\"\"\n",
        "        Compute the total energy of the liquid crystal system\n",
        "\n",
        "        INPUT\n",
        "        - system: current state of the liquid crystal system\n",
        "        - H: external field strength\n",
        "        - molecule_length: length of each liquid crystal molecule\n",
        "\n",
        "        OUTPUT\n",
        "        - E: total energy of the system\n",
        "    \"\"\"\n",
        "    E = 0.0\n",
        "    num = length(system.x)\n",
        "    for i in 1:num\n",
        "        for j in 1:num\n",
        "            if system.theta[i] != system.theta[j]\n",
        "                factor1 = ((system.x[j] - system.x[i]) * sin(system.theta[j]) - (system.y[j] - system.y[i]) * cos(system.theta[j])) / sin(system.theta[j] - system.theta[i]) / molecule_length\n",
        "                factor2 = ((system.x[i] - system.x[j]) * sin(system.theta[i]) - (system.y[i] - system.y[j]) * cos(system.theta[i])) / sin(system.theta[i] - system.theta[j]) / molecule_length\n",
        "                if 0 <= factor1 <= 1 && 0 <= factor2 <= 1\n",
        "                    E += 1\n",
        "                end\n",
        "            end\n",
        "        end\n",
        "        E -= (H * sin(system.theta[i]))^2\n",
        "    end\n",
        "    return E\n",
        "end"
      ],
      "metadata": {
        "id": "4P9q7YRoSOU6"
      },
      "id": "4P9q7YRoSOU6",
      "execution_count": null,
      "outputs": []
    },
    {
      "cell_type": "code",
      "source": [
        "function boltzmann_factor(E::Float64, T::Float64)\n",
        "    \"\"\"\n",
        "        Compute the Boltzmann factor for given energy and temperature\n",
        "\n",
        "        INPUT\n",
        "        - E: energy difference\n",
        "        - T: temperature\n",
        "\n",
        "        OUTPUT\n",
        "        - factor: Boltzmann factor exp(-E / kT), with k ≈ 1e-23\n",
        "    \"\"\"\n",
        "    return exp(-1.0e23 * E / T)\n",
        "end"
      ],
      "metadata": {
        "id": "GyKxBA0tSQ3O"
      },
      "id": "GyKxBA0tSQ3O",
      "execution_count": null,
      "outputs": []
    },
    {
      "cell_type": "code",
      "source": [
        "function propose_move(system::LiquidCrystalSystem, H::Float64, T::Float64, N::Int, system_size::Float64, molecule_length::Float64)\n",
        "    \"\"\"\n",
        "        Propose a random move for a randomly selected molecule\n",
        "\n",
        "        INPUT\n",
        "        - system: current state of the system\n",
        "        - H: external field strength\n",
        "        - T: temperature\n",
        "        - N: number of molecules\n",
        "        - system_size: size of the square system (length of one side)\n",
        "        - molecule_length: length of each molecule\n",
        "\n",
        "        OUTPUT\n",
        "        - new_system: new state of the system after proposed move (may be same as before if move is invalid)\n",
        "    \"\"\"\n",
        "    i = rand(1:N)\n",
        "    old_x, old_y, old_theta = system.x[i], system.y[i], system.theta[i]\n",
        "    new_system = LiquidCrystalSystem(copy(system.x), copy(system.y), copy(system.theta))\n",
        "    new_system.x[i] += 2 * rand() - 1\n",
        "    new_system.y[i] += 2 * rand() - 1\n",
        "    new_system.theta[i] += (π/2) * (rand() - 0.5)\n",
        "\n",
        "    x_end = new_system.x[i] + molecule_length * cos(new_system.theta[i])\n",
        "    y_end = new_system.y[i] + molecule_length * sin(new_system.theta[i])\n",
        "\n",
        "    if new_system.x[i] < 0 || new_system.x[i] > system_size || new_system.y[i] < 0 || new_system.y[i] > system_size || x_end < 0 || x_end > system_size || y_end < 0 || y_end > system_size\n",
        "        new_system.x[i], new_system.y[i], new_system.theta[i] = old_x, old_y, old_theta\n",
        "    end\n",
        "\n",
        "    return new_system\n",
        "end"
      ],
      "metadata": {
        "id": "To1iA7S3SUht"
      },
      "id": "To1iA7S3SUht",
      "execution_count": null,
      "outputs": []
    },
    {
      "cell_type": "code",
      "source": [
        "function metropolis_step(system::LiquidCrystalSystem, H::Float64, T::Float64, N::Int, system_size::Float64, molecule_length::Float64)\n",
        "    \"\"\"\n",
        "        Perform a single Metropolis update step\n",
        "\n",
        "        INPUT\n",
        "        - system: current state of the system\n",
        "        - H: external field strength\n",
        "        - T: temperature\n",
        "        - N: number of molecules\n",
        "        - system_size: size of the system\n",
        "        - molecule_length: length of each molecule\n",
        "\n",
        "        OUTPUT\n",
        "        - new_system: updated system state after Metropolis step\n",
        "    \"\"\"\n",
        "    E_old = total_energy(system, H, molecule_length)\n",
        "    new_system = propose_move(system, H, T, N, system_size, molecule_length)\n",
        "    E_new = total_energy(new_system, H, molecule_length)\n",
        "\n",
        "    if E_new <= E_old || rand() <= boltzmann_factor(E_new - E_old, T)\n",
        "        return new_system\n",
        "    else\n",
        "        return system\n",
        "    end\n",
        "end"
      ],
      "metadata": {
        "id": "ghgfTvpmSWh9"
      },
      "id": "ghgfTvpmSWh9",
      "execution_count": null,
      "outputs": []
    },
    {
      "cell_type": "code",
      "source": [
        "function monte_carlo_sweep(system::LiquidCrystalSystem, H::Float64, T::Float64, N::Int, system_size::Float64, molecule_length::Float64)\n",
        "    \"\"\"\n",
        "        Perform one full Monte Carlo sweep (N Metropolis steps)\n",
        "\n",
        "        INPUT\n",
        "        - system: initial system state\n",
        "        - H: external field strength\n",
        "        - T: temperature\n",
        "        - N: number of molecules\n",
        "        - system_size: size of the system\n",
        "        - molecule_length: length of each molecule\n",
        "\n",
        "        OUTPUT\n",
        "        - result: system state after one sweep\n",
        "    \"\"\"\n",
        "    result = LiquidCrystalSystem(copy(system.x), copy(system.y), copy(system.theta))\n",
        "    for _ in 1:N\n",
        "        result = metropolis_step(result, H, T, N, system_size, molecule_length)\n",
        "    end\n",
        "    return result\n",
        "end"
      ],
      "metadata": {
        "id": "-JrDWl44SYzJ"
      },
      "id": "-JrDWl44SYzJ",
      "execution_count": null,
      "outputs": []
    },
    {
      "cell_type": "code",
      "source": [
        "function run_simulation(H::Float64, T::Float64, N::Int, num_steps::Int, system_size::Float64, molecule_length::Float64)\n",
        "    \"\"\"\n",
        "        Run the full Monte Carlo simulation for the liquid crystal system\n",
        "\n",
        "        INPUT\n",
        "        - H: external field strength\n",
        "        - T: temperature\n",
        "        - N: number of molecules\n",
        "        - num_steps: number of Monte Carlo sweeps\n",
        "        - system_size: size of the system\n",
        "        - molecule_length: length of each molecule\n",
        "\n",
        "        OUTPUT\n",
        "        - results: array of LiquidCrystalSystem objects representing the system at each time step\n",
        "    \"\"\"\n",
        "    results = Vector{LiquidCrystalSystem}(undef, num_steps + 1)\n",
        "    results[1] = LiquidCrystalSystem([system_size * rand() for _ in 1:N], [system_size * rand() for _ in 1:N], [π/2 for _ in 1:N])\n",
        "\n",
        "    for i in 1:N\n",
        "        while results[1].x[i] + molecule_length * cos(results[1].theta[i]) < 0 ||\n",
        "              results[1].x[i] + molecule_length * cos(results[1].theta[i]) > system_size ||\n",
        "              results[1].y[i] + molecule_length * sin(results[1].theta[i]) < 0 ||\n",
        "              results[1].y[i] + molecule_length * sin(results[1].theta[i]) > system_size\n",
        "            results[1].x[i] = system_size * rand()\n",
        "            results[1].y[i] = system_size * rand()\n",
        "        end\n",
        "    end\n",
        "\n",
        "    for i in 1:num_steps\n",
        "        results[i+1] = monte_carlo_sweep(results[i], H, T, N, system_size, molecule_length)\n",
        "    end\n",
        "    return results\n",
        "end"
      ],
      "metadata": {
        "id": "Ap8j2fneSa7Z"
      },
      "id": "Ap8j2fneSa7Z",
      "execution_count": null,
      "outputs": []
    },
    {
      "cell_type": "code",
      "source": [
        "magnetic_field = 0.0\n",
        "temperature = 300.\n",
        "num_particles = 100\n",
        "num_steps = 200\n",
        "system_size = 100.0\n",
        "molecule_length = 15.0"
      ],
      "metadata": {
        "id": "osYQ4lchSeFQ"
      },
      "id": "osYQ4lchSeFQ",
      "execution_count": null,
      "outputs": []
    },
    {
      "cell_type": "code",
      "source": [
        "@time simulation_results = run_simulation(0.0, 300.0, num_particles, num_steps, system_size, molecule_length);"
      ],
      "metadata": {
        "id": "EJ04iLfLSgB3"
      },
      "id": "EJ04iLfLSgB3",
      "execution_count": null,
      "outputs": []
    },
    {
      "cell_type": "code",
      "source": [
        "open(\"./LC.data.H$(magnetic_field).T$(temperature).num$(num_particles).time$(num_steps).txt\", \"w\") do io\n",
        "    println(io, simulation_results)\n",
        "end"
      ],
      "metadata": {
        "id": "owjsudp2Sg_l"
      },
      "id": "owjsudp2Sg_l",
      "execution_count": null,
      "outputs": []
    },
    {
      "cell_type": "code",
      "source": [
        "anim = @animate for i in 1:(num_steps + 1)\n",
        "    t = i - 1\n",
        "    p = quiver(\n",
        "        simulation_results[i].x,\n",
        "        simulation_results[i].y,\n",
        "        quiver = (molecule_length * cos.(simulation_results[i].theta), molecule_length * sin.(simulation_results[i].theta)),\n",
        "        xlim = (0, system_size), ylim = (0, system_size),\n",
        "        aspect_ratio = 1, color = 1,\n",
        "        title = \"Liquid Crystal (N=$(num_particles), H=0) at t=$t\"\n",
        "    )\n",
        "    plot(p)\n",
        "end"
      ],
      "metadata": {
        "id": "TkI2peGLSuVy"
      },
      "id": "TkI2peGLSuVy",
      "execution_count": null,
      "outputs": []
    },
    {
      "cell_type": "code",
      "source": [
        "gif(anim, \"./anim.H$(magnetic_field).T$(temperature).num$(num_particles).time$(num_steps).gif\", fps = 10)"
      ],
      "metadata": {
        "id": "VXBmJNn2SvaU"
      },
      "id": "VXBmJNn2SvaU",
      "execution_count": null,
      "outputs": []
    },
    {
      "cell_type": "code",
      "source": [
        "function order_parameter(data, N)\n",
        "    \"\"\"\n",
        "        Compute the nematic order parameter over time\n",
        "\n",
        "        INPUT\n",
        "        - data: array of system states (LiquidCrystalSystem)\n",
        "        - N: number of molecules\n",
        "\n",
        "        OUTPUT\n",
        "        - result: vector of order parameters at each time step\n",
        "    \"\"\"\n",
        "    result = zeros(length(data))\n",
        "    for i in 1:length(data)\n",
        "        sum_cos = sum(x -> cos(2*x), data[i].theta)\n",
        "        sum_sin = sum(x -> sin(2*x), data[i].theta)\n",
        "        mean_cos = sum_cos / N\n",
        "        mean_sin = sum_sin / N\n",
        "        result[i] = sqrt(mean_cos^2 + mean_sin^2)\n",
        "    end\n",
        "    return result\n",
        "end"
      ],
      "metadata": {
        "id": "zIBCK-HxS23i"
      },
      "id": "zIBCK-HxS23i",
      "execution_count": null,
      "outputs": []
    },
    {
      "cell_type": "code",
      "source": [
        "Ss = order_parameter(simulation_results, num_particles);"
      ],
      "metadata": {
        "id": "SM4pjhzKS4aF"
      },
      "id": "SM4pjhzKS4aF",
      "execution_count": null,
      "outputs": []
    },
    {
      "cell_type": "code",
      "source": [
        "figS = plot(\n",
        "    0:num_steps, Ss,\n",
        "    xlabel=\"Time\",\n",
        "    ylabel=\"Order parameter\",\n",
        "    title=\"N=$(num_particles), H=$(magnetic_field)\",\n",
        "    legend=nothing,\n",
        "    ylims=(0.,1.)\n",
        ")\n",
        "# savefig(figS, \"./S.H$(magnetic_field).T$(temperature).num$(num_particles).time$(num_steps).png\")"
      ],
      "metadata": {
        "id": "JZCGsnyxS5iz"
      },
      "id": "JZCGsnyxS5iz",
      "execution_count": null,
      "outputs": []
    },
    {
      "cell_type": "code",
      "source": [
        "Ns = [10,50,100,150,200,250,300,400]\n",
        "order_parameters_dict = Dict{Int, Vector{Float64}}()\n",
        "for N in Ns\n",
        "    println(\"Running simulation for N = $N\")\n",
        "    result = run_simulation(magnetic_field, temperature, N, num_steps, system_size, molecule_length)\n",
        "    S_series = order_parameter(result, N)\n",
        "    order_parameters_dict[N] = S_series\n",
        "end"
      ],
      "metadata": {
        "id": "KVenwYbJTCji"
      },
      "id": "KVenwYbJTCji",
      "execution_count": null,
      "outputs": []
    },
    {
      "cell_type": "code",
      "execution_count": null,
      "id": "1b3ec0a2",
      "metadata": {
        "id": "1b3ec0a2"
      },
      "outputs": [],
      "source": [
        "fig_comparison = plot(\n",
        "    xlabel=\"Time\", ylabel=\"Order Parameter\", title=\"Comparison for Various N\"\n",
        ")\n",
        "for N in Ns\n",
        "    plot!(fig_comparison, 0:num_steps, order_parameters_dict[N], label=\"N=$N\")\n",
        "end\n",
        "# savefig(fig_comparison, \"./S_comparison.H$(magnetic_field).T$(temperature).time$(num_steps).png\")\n",
        "@show fig_comparison"
      ]
    }
  ],
  "metadata": {
    "colab": {
      "provenance": []
    },
    "kernelspec": {
      "name": "julia",
      "display_name": "Julia"
    },
    "language_info": {
      "name": "julia"
    }
  },
  "nbformat": 4,
  "nbformat_minor": 5
}